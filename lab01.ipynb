{
 "cells": [
  {
   "cell_type": "markdown",
   "metadata": {},
   "source": [
    "# Лабораторная работа по Теории вероятностей и математической статистике\n",
    "## Первая часть лабораторной работы\n",
    "### 4. В лотерее среди N билетов M выигрышных. Игрок покупает r билетов. С.в. η — число выигрышных билетов среди купленных\n"
   ]
  },
  {
   "cell_type": "code",
   "execution_count": 2,
   "metadata": {},
   "outputs": [],
   "source": [
    "import random\n",
    "from collections import Counter\n",
    "import pandas as pd\n",
    "from math import factorial\n",
    "from numpy import mean, median\n",
    "import numpy as np\n",
    "import matplotlib.pyplot as plt"
   ]
  },
  {
   "cell_type": "code",
   "execution_count": 3,
   "metadata": {},
   "outputs": [],
   "source": [
    "def combination(k, n):\n",
    "    return factorial(n)/(factorial(k) * factorial(n - k))\n",
    "\n",
    "def hypergeom(n, m, r, x):\n",
    "    return (combination(x,m))*combination(r-x, n-m)/combination(r,n)"
   ]
  },
  {
   "cell_type": "code",
   "execution_count": 30,
   "metadata": {},
   "outputs": [
    {
     "name": "stdout",
     "output_type": "stream",
     "text": [
      "      0      1      2     3    4     5\n",
      "0  30.0  48.00  18.00  3.00  0.0  1.00\n",
      "1   0.3   0.48   0.18  0.03  0.0  0.01\n"
     ]
    }
   ],
   "source": [
    "#Here we set the parameters\n",
    "N = 100  #Experiments\n",
    "n = 50   #Total tickets\n",
    "m = 10   #Winners\n",
    "r = 5    #buy tickets\n",
    "\n",
    "data = []\n",
    "inter = [0]\n",
    "real = 0\n",
    "for i in range (0, r+1):\n",
    "    real = real + hypergeom(n, m, r, i)\n",
    "    inter.append(real)\n",
    "elem = []\n",
    "for i in range (1, N+1):\n",
    "    if r == 0:\n",
    "        elem = [0]\n",
    "    if r == n:\n",
    "        elem = [n]\n",
    "    if r>0:\n",
    "        c = -1\n",
    "        z = random.randint(0,n)/n\n",
    "        for j in inter:\n",
    "            if (z>= j):\n",
    "                c = c + 1\n",
    "            if z == 1:\n",
    "                c = r                                                                                                                                                                                                                                                                                                                                                   \n",
    "        elem.append(c) \n",
    "  \n",
    "elem.sort()\n",
    "#We creat the dictionary for the data\n",
    "frecuency = Counter(elem)\n",
    "for i in range(0,r+1):\n",
    "    if i not in elem:\n",
    "        frecuency[i] = 0\n",
    "maximum = max(frecuency)\n",
    "ag = dict(frecuency)\n",
    "for i in range(0, maximum + 1):\n",
    "    data.append([(ag.get(i)),(ag.get(i)/N)])\n",
    "df =  pd.DataFrame(data)\n",
    "print(df.T)\n"
   ]
  },
  {
   "cell_type": "markdown",
   "metadata": {},
   "source": [
    "## Вторая часть лабораторной работы"
   ]
  },
  {
   "cell_type": "markdown",
   "metadata": {},
   "source": [
    "В данной задаче используется Гипергеометрический закон распределения $P(\\eta = k) = \\frac{C^k_{K}.C^{n-k} _{N-K}}{C^n_{N}}, \\ \\ k = 0,1,2,....K$\n",
    "\n",
    "$E_{\\eta} = \\frac{K}{N} .n$ - мат. ожидание\n",
    "\n",
    "$\\=X = \\frac{1}{n}\\sum_{k=1}^n x_k$ - выборочное среднее\n",
    "\n",
    "$|E_{\\eta} - \\={X}|$ - разница\n",
    "\n",
    "$D_{\\eta} = \\frac{K}{N}.n .\\frac{N-n}{N}.\\frac{N-k}{N-1} $ - дисперсия\n",
    "\n",
    "$S^2 = \\frac{\\sum_{k=1}^n(x_k - \\={X})^2}{n - 1}$\n",
    "\n",
    "$|D_{\\eta} - S^2|$ - разница\n",
    "\n",
    "$\\^{Me}$ - медиана\n",
    "\n",
    "$\\^{R}$ - разница максимального и минимального значений в выборке"
   ]
  },
  {
   "cell_type": "code",
   "execution_count": 31,
   "metadata": {},
   "outputs": [
    {
     "name": "stdout",
     "output_type": "stream",
     "text": [
      "     E     X  diff_E_x         D        S2  diff_D_S2   Me  R\n",
      "0  1.0  0.98      0.02  0.734694  0.767273   0.032579  1.0  5\n"
     ]
    }
   ],
   "source": [
    "maximum = max(frecuency)\n",
    "ag = dict(frecuency)\n",
    "E = (m/n)*r\n",
    "X = mean(elem)\n",
    "DiffEX = abs(E-X)\n",
    "D = (E*((n-r)/n)*((n-m)/(n-1)))\n",
    "sum = 0\n",
    "for xi in elem:\n",
    "    sum = sum + (xi - X)**2\n",
    "S2 = sum/(N-1)\n",
    "difDS2 = S2 - D\n",
    "Me = median(elem)\n",
    "R = max(elem) - min(elem)\n",
    "data = pd.DataFrame(data = data)\n",
    "data = pd.DataFrame([[E, X, DiffEX, D, S2, difDS2, Me, R]], \n",
    "    columns=['E', 'X', 'diff_E_x', 'D', 'S2', 'diff_D_S2', 'Me', 'R'])\n",
    "print (data)"
   ]
  },
  {
   "cell_type": "code",
   "execution_count": 32,
   "metadata": {},
   "outputs": [
    {
     "name": "stdout",
     "output_type": "stream",
     "text": [
      "          0         1        2         3         4         5\n",
      "0  0.310563  0.431337  0.20984  0.044177  0.003965  0.000119\n",
      "\n",
      "\n",
      "Максимальное отклонение = 0.000119\n"
     ]
    }
   ],
   "source": [
    "y1 =[]\n",
    "x_ = 0\n",
    "for i in range(0, r+1):\n",
    "    x_ = x_ + ag.get(i)/N\n",
    "    y1.append(x_)\n",
    "\n",
    "real = []\n",
    "for i in range (0, r+1):\n",
    "    real1 = hypergeom(n, m, r, i)\n",
    "    real.append(real1)\n",
    "df = pd.DataFrame(real)\n",
    "print(df.T)\n",
    "\n",
    "y2 =[]\n",
    "x1 = 0\n",
    "for i in range(0, r+1):\n",
    "    x = real[i]\n",
    "    x1 = x1 + x \n",
    "    y2.append(x1)\n",
    "\n",
    "maxep = 0\n",
    "for i in range(0, r+1):\n",
    "    maxot = abs(real[i] - elem[i])\n",
    "    if maxot >= maxep:\n",
    "        maxep = maxot\n",
    "\n",
    "print('\\n')\n",
    "print(\"Максимальное отклонение =\",round(maxot,6))\n",
    "\n"
   ]
  },
  {
   "cell_type": "markdown",
   "metadata": {},
   "source": [
    "### График $F_{\\eta}(x)$ и $\\^{F}_{\\eta}(x)$ функций распределения"
   ]
  },
  {
   "cell_type": "code",
   "execution_count": 33,
   "metadata": {},
   "outputs": [
    {
     "data": {
      "image/png": "[encoded data removed]",
      "text/plain": [
       "<Figure size 432x288 with 1 Axes>"
      ]
     },
     "metadata": {
      "needs_background": "light"
     },
     "output_type": "display_data"
    }
   ],
   "source": [
    "from matplotlib import ticker\n",
    "# график функции эмпирического распределения\n",
    "x = np.linspace(0, r,r+1)\n",
    "fig, sec = plt.subplots()\n",
    "sec.xaxis.set_major_locator(ticker.MultipleLocator(1))\n",
    "sec.yaxis.set_major_locator(ticker.MultipleLocator(0.1))\n",
    "for k in range(0,r):\n",
    "    sec.plot([x[k], x[k+1]], [y1[k], y1[k]], 'b')\n",
    "    sec.plot([x[k], x[k+1]], [y2[k], y2[k]], 'r')\n",
    "plt.title(\"Графики выборочной и теоретической F'\")\n",
    "plt.grid(True)\n",
    "plt.show()"
   ]
  },
  {
   "cell_type": "markdown",
   "metadata": {},
   "source": [
    "## Третья часть лабораторной работы"
   ]
  },
  {
   "cell_type": "code",
   "execution_count": 34,
   "metadata": {},
   "outputs": [
    {
     "name": "stdout",
     "output_type": "stream",
     "text": [
      "[1, 2, 3, 4]\n"
     ]
    },
    {
     "data": {
      "text/html": [
       "<div>\n",
       "<style scoped>\n",
       "    .dataframe tbody tr th:only-of-type {\n",
       "        vertical-align: middle;\n",
       "    }\n",
       "\n",
       "    .dataframe tbody tr th {\n",
       "        vertical-align: top;\n",
       "    }\n",
       "\n",
       "    .dataframe thead th {\n",
       "        text-align: right;\n",
       "    }\n",
       "</style>\n",
       "<table border=\"1\" class=\"dataframe\">\n",
       "  <thead>\n",
       "    <tr style=\"text-align: right;\">\n",
       "      <th></th>\n",
       "      <th>0</th>\n",
       "      <th>1</th>\n",
       "      <th>2</th>\n",
       "      <th>3</th>\n",
       "      <th>4</th>\n",
       "    </tr>\n",
       "  </thead>\n",
       "  <tbody>\n",
       "    <tr>\n",
       "      <th>0</th>\n",
       "      <td>0.7419</td>\n",
       "      <td>0.20984</td>\n",
       "      <td>0.044177</td>\n",
       "      <td>0.003965</td>\n",
       "      <td>0.000119</td>\n",
       "    </tr>\n",
       "  </tbody>\n",
       "</table>\n",
       "</div>"
      ],
      "text/plain": [
       "        0        1         2         3         4\n",
       "0  0.7419  0.20984  0.044177  0.003965  0.000119"
      ]
     },
     "execution_count": 34,
     "metadata": {},
     "output_type": "execute_result"
    }
   ],
   "source": [
    "# Ключевые параметры\n",
    "k = 5              # Число интервалов\n",
    "alpha = 0.5         # Параметр значимости\n",
    "\n",
    "# Достаем модули\n",
    "from random import randint, seed\n",
    "from scipy.stats import chi2\n",
    "import pandas as pd\n",
    "#seed(3)\n",
    "# Делаем все просчеты\n",
    "def task_3(elem, k, alpha, y2):\n",
    "    x = range(0, r+1)\n",
    "    flag = 1\n",
    "    while flag != 0:\n",
    "        inter = []\n",
    "        for i in range(k - 1):\n",
    "            inter.append(randint(0, len(y2) - 1))\n",
    "        inter1 = []\n",
    "        [inter1.append(x) for x in inter if x not in inter1]\n",
    "\n",
    "        if len(inter) == len(inter1):\n",
    "            flag = 0 \n",
    "    inter.sort()\n",
    "    print(inter)\n",
    "    \n",
    "\n",
    "    hist = {}\n",
    "    hist[0] = [number for number in elem if number < inter[0]]\n",
    "    for i in range(k - 2):\n",
    "        hist[i + 1] = [number for number in elem if inter[i] <= number < inter[i + 1]]\n",
    "    hist[k - 1] = [number for number in elem if number >= inter[k - 2]]\n",
    "\n",
    "    number_obs = {}\n",
    "    for i in sorted(hist.keys()):\n",
    "        number_obs[i] = len(hist[i])\n",
    "\n",
    "    q = [0]*k\n",
    "    q[0] = y2[inter[0]]\n",
    "    for i in range(k - 2):\n",
    "        q[i + 1] = y2[inter[i + 1]] - y2[inter[i]]\n",
    "    q[k - 1] = 1 - y2[inter[k - 2]]\n",
    "\n",
    "    R0 = 0\n",
    "    for i in range(k):\n",
    "        R0 += (number_obs[i] - N*q[i])**2/(N*q[i])\n",
    "\n",
    "    critic_value = 1 - chi2.cdf(R0, k - 1)\n",
    "    if critic_value > alpha:\n",
    "        a = 'Принята'\n",
    "    else:\n",
    "        a = 'Отвержена'\n",
    "    return pd.DataFrame([q])\n",
    "task_3(elem, k, alpha,y2)"
   ]
  },
  {
   "cell_type": "code",
   "execution_count": 108,
   "metadata": {},
   "outputs": [
    {
     "name": "stdout",
     "output_type": "stream",
     "text": [
      "471 Принята\n",
      "529 Отвержена\n"
     ]
    }
   ],
   "source": [
    "alpha = 0.1\n",
    "from random import randint\n",
    "from scipy.stats import chi2\n",
    "import pandas as pd\n",
    "\n",
    "# Делаем все просчеты\n",
    "def task_3(elem, k, alpha, y2):\n",
    "    z = 0\n",
    "    zz = 0\n",
    "    for h in range(0, 1000):\n",
    "        data = []\n",
    "        inter = [0]\n",
    "        real = 0\n",
    "        for i in range (0, r+1):\n",
    "            real = real + hypergeom(n, m, r, i)\n",
    "            inter.append(real)\n",
    "        elem = []\n",
    "        for i in range (1, N+1):\n",
    "            if r == 0:\n",
    "                elem = [0]\n",
    "            if r == n:\n",
    "                elem = [n]\n",
    "            if r>0:\n",
    "                c = -1\n",
    "                z1 = random.randint(0,n)/n\n",
    "                for j in inter:\n",
    "                    if (z1>= j):\n",
    "                        c = c + 1\n",
    "                    if z1 == 1:\n",
    "                        c = r                                                                                                                                                                                                                                                                                                                                                   \n",
    "                elem.append(c) \n",
    "        elem.sort()\n",
    "\n",
    "        #We creat the dictionary for the data\n",
    "        frecuency = Counter(elem)\n",
    "        for i in range(0,r+1):\n",
    "            if i not in elem:\n",
    "                frecuency[i] = 0\n",
    "        maximum = max(frecuency)\n",
    "        ag = dict(frecuency)\n",
    "        y1 =[]\n",
    "        x_ = 0\n",
    "        for i in range(0, r+1):\n",
    "            x_ = x_ + ag.get(i)/N\n",
    "            y1.append(x_)\n",
    "        real = []\n",
    "        for i in range (0, r+1):\n",
    "            real1 = hypergeom(n, m, r, i)\n",
    "            real.append(real1)\n",
    "        y2 =[]\n",
    "        x1 = 0\n",
    "        for i in range(0, r+1):\n",
    "            x = real[i]\n",
    "            x1 = x1 + x \n",
    "            y2.append(x1)\n",
    "        x = range(0, maximum)\n",
    "        k = 2\n",
    "        alpha = 0.1*(10**(-100))\n",
    "        inter = []\n",
    "        h = len(y2)/k\n",
    "        for i in range(1, k):\n",
    "            inter.append(int(h*i))\n",
    "            \n",
    "        q = [0]*k\n",
    "        q[0] = y2[inter[0]]\n",
    "        for i in range(k - 2):\n",
    "            q[i + 1] = y2[inter[i + 1]] - y2[inter[i]]\n",
    "        q[k - 1] = 1 - y2[inter[k - 2]]\n",
    " \n",
    "\n",
    "        hist = {}\n",
    "        hist[0] = [number for number in elem if number < inter[0]]\n",
    "        for i in range(k - 2):\n",
    "            hist[i + 1] = [number for number in elem if inter[i] <= number < inter[i + 1]]\n",
    "        hist[k - 1] = [number for number in elem if number >= inter[k - 2]]\n",
    "\n",
    "        number_obs = {}\n",
    "        for i in sorted(hist.keys()):\n",
    "            number_obs[i] = len(hist[i])\n",
    "\n",
    "        R0 = 0\n",
    "        for i in range(k):\n",
    "            R0 += (number_obs[i] - N*q[i])**2/(N*q[i])\n",
    "        critic_value = 1 - chi2.cdf(R0, k - 1)\n",
    "        if critic_value > alpha:\n",
    "            a = 'Принята'\n",
    "            z += 1\n",
    "        else:\n",
    "            a = 'Отвержена'\n",
    "            zz += 1\n",
    "    return z, zz\n",
    "z, zz = task_3(elem, k, alpha, y2)\n",
    "print(z, 'Принята')\n",
    "print(zz, 'Отвержена')"
   ]
  },
  {
   "cell_type": "code",
   "execution_count": 109,
   "metadata": {},
   "outputs": [
    {
     "name": "stdout",
     "output_type": "stream",
     "text": [
      "0 Принята\n",
      "1000 Отвержена\n"
     ]
    }
   ],
   "source": [
    "alpha = 0.1\n",
    "from random import randint\n",
    "from scipy.stats import chi2\n",
    "import pandas as pd\n",
    "\n",
    "# Делаем все просчеты\n",
    "def task_3(elem, k, alpha, y2):\n",
    "    z = 0\n",
    "    zz = 0\n",
    "    for h in range(0, 1000):\n",
    "        inter = [0]\n",
    "        real = 0\n",
    "        for i in range (0, r+1):\n",
    "            real = real + hypergeom(n, m, r, i)\n",
    "            inter.append(real)\n",
    "        elem = []\n",
    "        for i in range (1, N+1):\n",
    "            if r == 0:\n",
    "                elem = [0]\n",
    "            if r == n:\n",
    "                elem = [n]\n",
    "            if r>0:\n",
    "                c = -1\n",
    "                z1 = random.randint(0,n)/n\n",
    "                for j in inter:\n",
    "                    if (z1>= j):\n",
    "                        c = c + 1\n",
    "                    if z1 == 1:\n",
    "                        c = r                                                                                                                                                                                                                                                                                                                                                   \n",
    "                elem.append(c) \n",
    "        \n",
    "        elem.sort()\n",
    "        #We creat the dictionary for the data\n",
    "        frecuency = Counter(elem)\n",
    "        for i in range(0,r+1):\n",
    "            if i not in elem:\n",
    "                frecuency[i] = 0\n",
    "        maximum = max(frecuency)\n",
    "        ag = dict(frecuency)\n",
    "        y1 =[]\n",
    "        x_ = 0\n",
    "        for i in range(0, r+1):\n",
    "            x_ = x_ + ag.get(i)/N\n",
    "            y1.append(x_)\n",
    "        real1 = []\n",
    "        for i in range (0, r+1):\n",
    "            real2 = hypergeom(n, m, r, i)\n",
    "            real1.append(real2)\n",
    "        y2 =[]\n",
    "        x1 = 0\n",
    "        for i in range(0, r+1):\n",
    "            x = real1[i]\n",
    "            x1 = x1 + x \n",
    "            y2.append(x1)\n",
    "\n",
    "        x = range(0, maximum+1)\n",
    "        k = 2\n",
    "\n",
    "        inter = []\n",
    "        h = len(y2)/k\n",
    "        for i in range(0, k):\n",
    "            inter.append(int(h*i))\n",
    "            \n",
    "        q = [0]*k\n",
    "        q[0] = y2[inter[0]]\n",
    "        for i in range(k - 2):\n",
    "            q[i + 1] = y2[inter[i + 1]] - y2[inter[i]]\n",
    "        q[k - 1] = 1 - y2[inter[k - 2]]\n",
    " \n",
    "\n",
    "        hist = {}\n",
    "        hist[0] = [number for number in elem if number < inter[0]]\n",
    "        for i in range(k - 2):\n",
    "            hist[i + 1] = [number for number in elem if inter[i] <= number < inter[i + 1]]\n",
    "        hist[k - 1] = [number for number in elem if number >= inter[k - 2]]\n",
    "\n",
    "        number_obs = {}\n",
    "        for i in sorted(hist.keys()):\n",
    "            number_obs[i] = len(hist[i])\n",
    "\n",
    "        R0 = 0\n",
    "        for i in range(k):\n",
    "            R0 += (number_obs[i] - N*q[i])**2/(N*q[i])\n",
    "        critic_value = 1 - chi2.cdf(R0, k - 1)\n",
    "        if critic_value > alpha:\n",
    "            a = 'Принята'\n",
    "            z += 1\n",
    "        else:\n",
    "            a = 'Отвержена'\n",
    "            zz += 1\n",
    "    return z, zz\n",
    "z, zz = task_3(elem, k, alpha, y2)\n",
    "print(z, 'Принята')\n",
    "print(zz, 'Отвержена')"
   ]
  }
 ],
 "metadata": {
  "interpreter": {
   "hash": "0d591c6e422414675974e227c13f5382000c440fedd3c5006ef2be5d887f0ba7"
  },
  "kernelspec": {
   "display_name": "Python 3.9.1 64-bit",
   "language": "python",
   "name": "python3"
  },
  "language_info": {
   "codemirror_mode": {
    "name": "ipython",
    "version": 3
   },
   "file_extension": ".py",
   "mimetype": "text/x-python",
   "name": "python",
   "nbconvert_exporter": "python",
   "pygments_lexer": "ipython3",
   "version": "3.9.1"
  },
  "orig_nbformat": 4
 },
 "nbformat": 4,
 "nbformat_minor": 2
}
